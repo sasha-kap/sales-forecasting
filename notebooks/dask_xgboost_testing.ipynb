{
 "cells": [
  {
   "cell_type": "markdown",
   "id": "considerable-rider",
   "metadata": {
    "toc": true
   },
   "source": [
    "<h1>Table of Contents<span class=\"tocSkip\"></span></h1>\n",
    "<div class=\"toc\"><ul class=\"toc-item\"><li><span><a href=\"#Read-CSVs-into-Dask-Dataframe\" data-toc-modified-id=\"Read-CSVs-into-Dask-Dataframe-1\"><span class=\"toc-item-num\">1&nbsp;&nbsp;</span>Read CSVs into Dask Dataframe</a></span></li><li><span><a href=\"#XGBoost-model\" data-toc-modified-id=\"XGBoost-model-2\"><span class=\"toc-item-num\">2&nbsp;&nbsp;</span>XGBoost model</a></span></li><li><span><a href=\"#XGBoost-model-with-train-test-split\" data-toc-modified-id=\"XGBoost-model-with-train-test-split-3\"><span class=\"toc-item-num\">3&nbsp;&nbsp;</span>XGBoost model with train-test split</a></span></li></ul></div>"
   ]
  },
  {
   "cell_type": "code",
   "execution_count": 1,
   "id": "fossil-bangkok",
   "metadata": {},
   "outputs": [],
   "source": [
    "import matplotlib.pyplot as plt\n",
    "import numpy as np\n",
    "import pandas as pd"
   ]
  },
  {
   "cell_type": "code",
   "execution_count": 2,
   "id": "comic-morocco",
   "metadata": {},
   "outputs": [
    {
     "data": {
      "text/html": [
       "<table style=\"border: 2px solid white;\">\n",
       "<tr>\n",
       "<td style=\"vertical-align: top; border: 0px solid white\">\n",
       "<h3 style=\"text-align: left;\">Client</h3>\n",
       "<ul style=\"text-align: left; list-style: none; margin: 0; padding: 0;\">\n",
       "  <li><b>Scheduler: </b>tcp://127.0.0.1:61210</li>\n",
       "  <li><b>Dashboard: </b><a href='http://127.0.0.1:8787/status' target='_blank'>http://127.0.0.1:8787/status</a></li>\n",
       "</ul>\n",
       "</td>\n",
       "<td style=\"vertical-align: top; border: 0px solid white\">\n",
       "<h3 style=\"text-align: left;\">Cluster</h3>\n",
       "<ul style=\"text-align: left; list-style:none; margin: 0; padding: 0;\">\n",
       "  <li><b>Workers: </b>2</li>\n",
       "  <li><b>Cores: </b>4</li>\n",
       "  <li><b>Memory: </b>4.00 GB</li>\n",
       "</ul>\n",
       "</td>\n",
       "</tr>\n",
       "</table>"
      ],
      "text/plain": [
       "<Client: 'tcp://127.0.0.1:61210' processes=2 threads=4, memory=4.00 GB>"
      ]
     },
     "execution_count": 2,
     "metadata": {},
     "output_type": "execute_result"
    }
   ],
   "source": [
    "# set up client with 2 workers, each having two threads and each having a 2GB memory limit\n",
    "from dask.distributed import Client\n",
    "client = Client(n_workers=2, threads_per_worker=2, memory_limit='2GB')\n",
    "client"
   ]
  },
  {
   "cell_type": "code",
   "execution_count": 3,
   "id": "third-salon",
   "metadata": {},
   "outputs": [],
   "source": [
    "from dask import dataframe as dd, array as da"
   ]
  },
  {
   "cell_type": "markdown",
   "id": "digital-planning",
   "metadata": {},
   "source": [
    "##### Read CSVs into Dask Dataframe"
   ]
  },
  {
   "cell_type": "code",
   "execution_count": 4,
   "id": "scheduled-layout",
   "metadata": {},
   "outputs": [
    {
     "data": {
      "text/html": [
       "<div><strong>Dask DataFrame Structure:</strong></div>\n",
       "<div>\n",
       "<style scoped>\n",
       "    .dataframe tbody tr th:only-of-type {\n",
       "        vertical-align: middle;\n",
       "    }\n",
       "\n",
       "    .dataframe tbody tr th {\n",
       "        vertical-align: top;\n",
       "    }\n",
       "\n",
       "    .dataframe thead th {\n",
       "        text-align: right;\n",
       "    }\n",
       "</style>\n",
       "<table border=\"1\" class=\"dataframe\">\n",
       "  <thead>\n",
       "    <tr style=\"text-align: right;\">\n",
       "      <th></th>\n",
       "      <th>y</th>\n",
       "      <th>x</th>\n",
       "    </tr>\n",
       "    <tr>\n",
       "      <th>npartitions=2</th>\n",
       "      <th></th>\n",
       "      <th></th>\n",
       "    </tr>\n",
       "  </thead>\n",
       "  <tbody>\n",
       "    <tr>\n",
       "      <th>2015-01-01</th>\n",
       "      <td>float64</td>\n",
       "      <td>float64</td>\n",
       "    </tr>\n",
       "    <tr>\n",
       "      <th>2019-01-01</th>\n",
       "      <td>...</td>\n",
       "      <td>...</td>\n",
       "    </tr>\n",
       "    <tr>\n",
       "      <th>2021-09-26</th>\n",
       "      <td>...</td>\n",
       "      <td>...</td>\n",
       "    </tr>\n",
       "  </tbody>\n",
       "</table>\n",
       "</div>\n",
       "<div>Dask Name: sort_index, 6 tasks</div>"
      ],
      "text/plain": [
       "Dask DataFrame Structure:\n",
       "                     y        x\n",
       "npartitions=2                  \n",
       "2015-01-01     float64  float64\n",
       "2019-01-01         ...      ...\n",
       "2021-09-26         ...      ...\n",
       "Dask Name: sort_index, 6 tasks"
      ]
     },
     "execution_count": 4,
     "metadata": {},
     "output_type": "execute_result"
    }
   ],
   "source": [
    "ddf = dd.read_csv('../data/test/csv*.csv', parse_dates=['date']).set_index('date')\n",
    "ddf"
   ]
  },
  {
   "cell_type": "markdown",
   "id": "conditional-watson",
   "metadata": {},
   "source": [
    "##### XGBoost model"
   ]
  },
  {
   "cell_type": "code",
   "execution_count": 5,
   "id": "proof-disaster",
   "metadata": {},
   "outputs": [],
   "source": [
    "import xgboost as xgb"
   ]
  },
  {
   "cell_type": "code",
   "execution_count": 8,
   "id": "gothic-fraud",
   "metadata": {},
   "outputs": [],
   "source": [
    "X = ddf['x'].to_dask_array(lengths=True).reshape(-1,1)\n",
    "y = ddf['y']"
   ]
  },
  {
   "cell_type": "code",
   "execution_count": 9,
   "id": "european-monday",
   "metadata": {},
   "outputs": [],
   "source": [
    "dtrain = xgb.dask.DaskDMatrix(client, X, y)"
   ]
  },
  {
   "cell_type": "code",
   "execution_count": 53,
   "id": "second-health",
   "metadata": {},
   "outputs": [],
   "source": [
    "result = xgb.dask.train(\n",
    "    client=client,\n",
    "    params={\n",
    "        \"objective\": \"reg:squarederror\",\n",
    "    },\n",
    "    dtrain=dtrain,\n",
    "    num_boost_round=10,\n",
    "    evals=[(dtrain, \"train\")],\n",
    "    early_stopping_rounds=5\n",
    ")"
   ]
  },
  {
   "cell_type": "code",
   "execution_count": 54,
   "id": "naked-highway",
   "metadata": {},
   "outputs": [
    {
     "name": "stdout",
     "output_type": "stream",
     "text": [
      "{'train': {'rmse': [15.956649, 11.227454, 7.914044, 5.603489, 3.998896, 2.898554, 2.15791, 1.675652, 1.375932, 1.200241]}}\n"
     ]
    }
   ],
   "source": [
    "print(result['history'])"
   ]
  },
  {
   "cell_type": "code",
   "execution_count": 55,
   "id": "acceptable-customs",
   "metadata": {
    "scrolled": true
   },
   "outputs": [
    {
     "data": {
      "text/plain": [
       "10"
      ]
     },
     "execution_count": 55,
     "metadata": {},
     "output_type": "execute_result"
    }
   ],
   "source": [
    "result['booster'].best_ntree_limit"
   ]
  },
  {
   "cell_type": "code",
   "execution_count": 56,
   "id": "chubby-queen",
   "metadata": {},
   "outputs": [
    {
     "data": {
      "text/plain": [
       "1.200241"
      ]
     },
     "execution_count": 56,
     "metadata": {},
     "output_type": "execute_result"
    }
   ],
   "source": [
    "result['booster'].best_score"
   ]
  },
  {
   "cell_type": "code",
   "execution_count": 57,
   "id": "infrared-transition",
   "metadata": {},
   "outputs": [
    {
     "data": {
      "text/plain": [
       "9"
      ]
     },
     "execution_count": 57,
     "metadata": {},
     "output_type": "execute_result"
    }
   ],
   "source": [
    "result['booster'].best_iteration"
   ]
  },
  {
   "cell_type": "code",
   "execution_count": 58,
   "id": "composed-convergence",
   "metadata": {},
   "outputs": [
    {
     "data": {
      "text/plain": [
       "10"
      ]
     },
     "execution_count": 58,
     "metadata": {},
     "output_type": "execute_result"
    }
   ],
   "source": [
    "result['booster'].best_ntree_limit"
   ]
  },
  {
   "cell_type": "markdown",
   "id": "anticipated-bandwidth",
   "metadata": {},
   "source": [
    "##### XGBoost model with train-test split"
   ]
  },
  {
   "cell_type": "code",
   "execution_count": 43,
   "id": "downtown-price",
   "metadata": {},
   "outputs": [],
   "source": [
    "from dask_ml.model_selection import train_test_split"
   ]
  },
  {
   "cell_type": "code",
   "execution_count": 44,
   "id": "challenging-audit",
   "metadata": {},
   "outputs": [],
   "source": [
    "X_train, X_test, y_train, y_test = train_test_split(ddf.x, ddf.y, shuffle=False)"
   ]
  },
  {
   "cell_type": "code",
   "execution_count": 46,
   "id": "hungarian-defense",
   "metadata": {},
   "outputs": [],
   "source": [
    "X_train = X_train.to_dask_array(lengths=True).reshape(-1,1)\n",
    "X_test = X_test.to_dask_array(lengths=True).reshape(-1,1)"
   ]
  },
  {
   "cell_type": "code",
   "execution_count": 47,
   "id": "bottom-explosion",
   "metadata": {},
   "outputs": [],
   "source": [
    "dtrain2 = xgb.dask.DaskDMatrix(client, X_train, y_train)"
   ]
  },
  {
   "cell_type": "code",
   "execution_count": 48,
   "id": "piano-brown",
   "metadata": {},
   "outputs": [],
   "source": [
    "dtest = xgb.dask.DaskDMatrix(client, X_test, y_test)"
   ]
  },
  {
   "cell_type": "code",
   "execution_count": 49,
   "id": "upper-database",
   "metadata": {},
   "outputs": [],
   "source": [
    "result2 = xgb.dask.train(\n",
    "    client=client,\n",
    "    params={\n",
    "        \"objective\": \"reg:squarederror\",\n",
    "    },\n",
    "    dtrain=dtrain2,\n",
    "    num_boost_round=10,\n",
    "    evals=[(dtrain2, \"train\"), (dtest, \"test\")],\n",
    "    early_stopping_rounds=5\n",
    ")"
   ]
  },
  {
   "cell_type": "code",
   "execution_count": 50,
   "id": "silver-smoke",
   "metadata": {},
   "outputs": [
    {
     "name": "stdout",
     "output_type": "stream",
     "text": [
      "{'train': {'rmse': [15.906085, 11.192538, 7.892526, 5.589144, 3.989423, 2.889521, 2.148683, 1.665983, 1.365895, 1.189484]}, 'test': {'rmse': [16.538439, 11.678191, 8.278107, 5.887934, 4.221953, 3.06977, 2.304125, 1.801274, 1.486173, 1.30199]}}\n"
     ]
    }
   ],
   "source": [
    "print(result2['history'])"
   ]
  },
  {
   "cell_type": "code",
   "execution_count": null,
   "id": "casual-registrar",
   "metadata": {},
   "outputs": [],
   "source": []
  }
 ],
 "metadata": {
  "kernelspec": {
   "display_name": "Python 3",
   "language": "python",
   "name": "python3"
  },
  "language_info": {
   "codemirror_mode": {
    "name": "ipython",
    "version": 3
   },
   "file_extension": ".py",
   "mimetype": "text/x-python",
   "name": "python",
   "nbconvert_exporter": "python",
   "pygments_lexer": "ipython3",
   "version": "3.6.10"
  },
  "toc": {
   "base_numbering": 1,
   "nav_menu": {},
   "number_sections": true,
   "sideBar": true,
   "skip_h1_title": false,
   "title_cell": "Table of Contents",
   "title_sidebar": "Contents",
   "toc_cell": true,
   "toc_position": {},
   "toc_section_display": true,
   "toc_window_display": false
  }
 },
 "nbformat": 4,
 "nbformat_minor": 5
}
