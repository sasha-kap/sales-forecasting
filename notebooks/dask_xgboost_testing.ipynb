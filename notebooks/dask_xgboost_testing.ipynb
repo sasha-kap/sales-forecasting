{
 "cells": [
  {
   "cell_type": "markdown",
   "id": "posted-vacuum",
   "metadata": {
    "toc": true
   },
   "source": [
    "<h1>Table of Contents<span class=\"tocSkip\"></span></h1>\n",
    "<div class=\"toc\"><ul class=\"toc-item\"><li><span><a href=\"#Read-CSVs-into-Dask-Dataframe\" data-toc-modified-id=\"Read-CSVs-into-Dask-Dataframe-1\"><span class=\"toc-item-num\">1&nbsp;&nbsp;</span>Read CSVs into Dask Dataframe</a></span></li><li><span><a href=\"#XGBoost-model\" data-toc-modified-id=\"XGBoost-model-2\"><span class=\"toc-item-num\">2&nbsp;&nbsp;</span>XGBoost model</a></span></li><li><span><a href=\"#XGBoost-model-with-train-test-split\" data-toc-modified-id=\"XGBoost-model-with-train-test-split-3\"><span class=\"toc-item-num\">3&nbsp;&nbsp;</span>XGBoost model with train-test split</a></span></li><li><span><a href=\"#Dask-delayed,-sampling-CSV-rows-with-.sample()\" data-toc-modified-id=\"Dask-delayed,-sampling-CSV-rows-with-.sample()-4\"><span class=\"toc-item-num\">4&nbsp;&nbsp;</span>Dask delayed, sampling CSV rows with .sample()</a></span></li><li><span><a href=\"#More-testing-of-read_csv-and-merge-(can-ignore-this-section)\" data-toc-modified-id=\"More-testing-of-read_csv-and-merge-(can-ignore-this-section)-5\"><span class=\"toc-item-num\">5&nbsp;&nbsp;</span>More testing of read_csv and merge (can ignore this section)</a></span></li><li><span><a href=\"#Test-reading-sample-from-multiple-CSVs\" data-toc-modified-id=\"Test-reading-sample-from-multiple-CSVs-6\"><span class=\"toc-item-num\">6&nbsp;&nbsp;</span>Test reading sample from multiple CSVs</a></span></li><li><span><a href=\"#Create-a-list-of-delayed-objects-from-multiple-CSVs-and-work-with-them-to-create-train-and-test-sets\" data-toc-modified-id=\"Create-a-list-of-delayed-objects-from-multiple-CSVs-and-work-with-them-to-create-train-and-test-sets-7\"><span class=\"toc-item-num\">7&nbsp;&nbsp;</span>Create a list of delayed objects from multiple CSVs and work with them to create train and test sets</a></span></li></ul></div>"
   ]
  },
  {
   "cell_type": "code",
   "execution_count": 1,
   "id": "steady-coalition",
   "metadata": {},
   "outputs": [],
   "source": [
    "import matplotlib.pyplot as plt\n",
    "import numpy as np\n",
    "import pandas as pd"
   ]
  },
  {
   "cell_type": "code",
   "execution_count": 2,
   "id": "effective-coral",
   "metadata": {},
   "outputs": [
    {
     "data": {
      "text/html": [
       "<table style=\"border: 2px solid white;\">\n",
       "<tr>\n",
       "<td style=\"vertical-align: top; border: 0px solid white\">\n",
       "<h3 style=\"text-align: left;\">Client</h3>\n",
       "<ul style=\"text-align: left; list-style: none; margin: 0; padding: 0;\">\n",
       "  <li><b>Scheduler: </b>tcp://127.0.0.1:61210</li>\n",
       "  <li><b>Dashboard: </b><a href='http://127.0.0.1:8787/status' target='_blank'>http://127.0.0.1:8787/status</a></li>\n",
       "</ul>\n",
       "</td>\n",
       "<td style=\"vertical-align: top; border: 0px solid white\">\n",
       "<h3 style=\"text-align: left;\">Cluster</h3>\n",
       "<ul style=\"text-align: left; list-style:none; margin: 0; padding: 0;\">\n",
       "  <li><b>Workers: </b>2</li>\n",
       "  <li><b>Cores: </b>4</li>\n",
       "  <li><b>Memory: </b>4.00 GB</li>\n",
       "</ul>\n",
       "</td>\n",
       "</tr>\n",
       "</table>"
      ],
      "text/plain": [
       "<Client: 'tcp://127.0.0.1:61210' processes=2 threads=4, memory=4.00 GB>"
      ]
     },
     "execution_count": 2,
     "metadata": {},
     "output_type": "execute_result"
    }
   ],
   "source": [
    "# set up client with 2 workers, each having two threads and each having a 2GB memory limit\n",
    "from dask.distributed import Client\n",
    "client = Client(n_workers=2, threads_per_worker=2, memory_limit='2GB')\n",
    "client"
   ]
  },
  {
   "cell_type": "code",
   "execution_count": 3,
   "id": "familiar-competition",
   "metadata": {},
   "outputs": [],
   "source": [
    "from dask import dataframe as dd, array as da"
   ]
  },
  {
   "cell_type": "markdown",
   "id": "interested-apache",
   "metadata": {},
   "source": [
    "##### Read CSVs into Dask Dataframe"
   ]
  },
  {
   "cell_type": "code",
   "execution_count": 4,
   "id": "matched-leadership",
   "metadata": {},
   "outputs": [
    {
     "data": {
      "text/html": [
       "<div><strong>Dask DataFrame Structure:</strong></div>\n",
       "<div>\n",
       "<style scoped>\n",
       "    .dataframe tbody tr th:only-of-type {\n",
       "        vertical-align: middle;\n",
       "    }\n",
       "\n",
       "    .dataframe tbody tr th {\n",
       "        vertical-align: top;\n",
       "    }\n",
       "\n",
       "    .dataframe thead th {\n",
       "        text-align: right;\n",
       "    }\n",
       "</style>\n",
       "<table border=\"1\" class=\"dataframe\">\n",
       "  <thead>\n",
       "    <tr style=\"text-align: right;\">\n",
       "      <th></th>\n",
       "      <th>y</th>\n",
       "      <th>x</th>\n",
       "    </tr>\n",
       "    <tr>\n",
       "      <th>npartitions=2</th>\n",
       "      <th></th>\n",
       "      <th></th>\n",
       "    </tr>\n",
       "  </thead>\n",
       "  <tbody>\n",
       "    <tr>\n",
       "      <th>2015-01-01</th>\n",
       "      <td>float64</td>\n",
       "      <td>float64</td>\n",
       "    </tr>\n",
       "    <tr>\n",
       "      <th>2019-01-01</th>\n",
       "      <td>...</td>\n",
       "      <td>...</td>\n",
       "    </tr>\n",
       "    <tr>\n",
       "      <th>2021-09-26</th>\n",
       "      <td>...</td>\n",
       "      <td>...</td>\n",
       "    </tr>\n",
       "  </tbody>\n",
       "</table>\n",
       "</div>\n",
       "<div>Dask Name: sort_index, 6 tasks</div>"
      ],
      "text/plain": [
       "Dask DataFrame Structure:\n",
       "                     y        x\n",
       "npartitions=2                  \n",
       "2015-01-01     float64  float64\n",
       "2019-01-01         ...      ...\n",
       "2021-09-26         ...      ...\n",
       "Dask Name: sort_index, 6 tasks"
      ]
     },
     "execution_count": 4,
     "metadata": {},
     "output_type": "execute_result"
    }
   ],
   "source": [
    "ddf = dd.read_csv('../data/test/csv*.csv', parse_dates=['date']).set_index('date')\n",
    "ddf"
   ]
  },
  {
   "cell_type": "markdown",
   "id": "ordered-seattle",
   "metadata": {},
   "source": [
    "##### XGBoost model"
   ]
  },
  {
   "cell_type": "code",
   "execution_count": 5,
   "id": "small-russian",
   "metadata": {},
   "outputs": [],
   "source": [
    "import xgboost as xgb"
   ]
  },
  {
   "cell_type": "code",
   "execution_count": 8,
   "id": "streaming-store",
   "metadata": {},
   "outputs": [],
   "source": [
    "X = ddf['x'].to_dask_array(lengths=True).reshape(-1,1)\n",
    "y = ddf['y']"
   ]
  },
  {
   "cell_type": "code",
   "execution_count": 9,
   "id": "postal-jurisdiction",
   "metadata": {},
   "outputs": [],
   "source": [
    "dtrain = xgb.dask.DaskDMatrix(client, X, y)"
   ]
  },
  {
   "cell_type": "code",
   "execution_count": 53,
   "id": "defensive-design",
   "metadata": {},
   "outputs": [],
   "source": [
    "result = xgb.dask.train(\n",
    "    client=client,\n",
    "    params={\n",
    "        \"objective\": \"reg:squarederror\",\n",
    "    },\n",
    "    dtrain=dtrain,\n",
    "    num_boost_round=10,\n",
    "    evals=[(dtrain, \"train\")],\n",
    "    early_stopping_rounds=5\n",
    ")"
   ]
  },
  {
   "cell_type": "code",
   "execution_count": 54,
   "id": "legislative-hollywood",
   "metadata": {},
   "outputs": [
    {
     "name": "stdout",
     "output_type": "stream",
     "text": [
      "{'train': {'rmse': [15.956649, 11.227454, 7.914044, 5.603489, 3.998896, 2.898554, 2.15791, 1.675652, 1.375932, 1.200241]}}\n"
     ]
    }
   ],
   "source": [
    "print(result['history'])"
   ]
  },
  {
   "cell_type": "code",
   "execution_count": 55,
   "id": "convinced-cattle",
   "metadata": {
    "scrolled": true
   },
   "outputs": [
    {
     "data": {
      "text/plain": [
       "10"
      ]
     },
     "execution_count": 55,
     "metadata": {},
     "output_type": "execute_result"
    }
   ],
   "source": [
    "result['booster'].best_ntree_limit"
   ]
  },
  {
   "cell_type": "code",
   "execution_count": 56,
   "id": "direct-cigarette",
   "metadata": {},
   "outputs": [
    {
     "data": {
      "text/plain": [
       "1.200241"
      ]
     },
     "execution_count": 56,
     "metadata": {},
     "output_type": "execute_result"
    }
   ],
   "source": [
    "result['booster'].best_score"
   ]
  },
  {
   "cell_type": "code",
   "execution_count": 57,
   "id": "after-series",
   "metadata": {},
   "outputs": [
    {
     "data": {
      "text/plain": [
       "9"
      ]
     },
     "execution_count": 57,
     "metadata": {},
     "output_type": "execute_result"
    }
   ],
   "source": [
    "result['booster'].best_iteration"
   ]
  },
  {
   "cell_type": "code",
   "execution_count": 58,
   "id": "geological-prayer",
   "metadata": {},
   "outputs": [
    {
     "data": {
      "text/plain": [
       "10"
      ]
     },
     "execution_count": 58,
     "metadata": {},
     "output_type": "execute_result"
    }
   ],
   "source": [
    "result['booster'].best_ntree_limit"
   ]
  },
  {
   "cell_type": "markdown",
   "id": "lesbian-history",
   "metadata": {},
   "source": [
    "##### XGBoost model with train-test split"
   ]
  },
  {
   "cell_type": "code",
   "execution_count": 43,
   "id": "convertible-moisture",
   "metadata": {},
   "outputs": [],
   "source": [
    "from dask_ml.model_selection import train_test_split"
   ]
  },
  {
   "cell_type": "code",
   "execution_count": 44,
   "id": "governing-dollar",
   "metadata": {},
   "outputs": [],
   "source": [
    "X_train, X_test, y_train, y_test = train_test_split(ddf.x, ddf.y, shuffle=False)"
   ]
  },
  {
   "cell_type": "code",
   "execution_count": 46,
   "id": "spiritual-declaration",
   "metadata": {},
   "outputs": [],
   "source": [
    "X_train = X_train.to_dask_array(lengths=True).reshape(-1,1)\n",
    "X_test = X_test.to_dask_array(lengths=True).reshape(-1,1)"
   ]
  },
  {
   "cell_type": "code",
   "execution_count": 47,
   "id": "southern-police",
   "metadata": {},
   "outputs": [],
   "source": [
    "dtrain2 = xgb.dask.DaskDMatrix(client, X_train, y_train)"
   ]
  },
  {
   "cell_type": "code",
   "execution_count": 48,
   "id": "median-access",
   "metadata": {},
   "outputs": [],
   "source": [
    "dtest = xgb.dask.DaskDMatrix(client, X_test, y_test)"
   ]
  },
  {
   "cell_type": "code",
   "execution_count": 63,
   "id": "encouraging-marks",
   "metadata": {},
   "outputs": [
    {
     "name": "stdout",
     "output_type": "stream",
     "text": [
      "CPU times: user 3 µs, sys: 1e+03 ns, total: 4 µs\n",
      "Wall time: 7.15 µs\n"
     ]
    }
   ],
   "source": [
    "%time\n",
    "\n",
    "result2 = xgb.dask.train(\n",
    "    client=client,\n",
    "    params={\n",
    "        \"objective\": \"reg:squarederror\",\n",
    "    },\n",
    "    dtrain=dtrain2,\n",
    "    num_boost_round=10,\n",
    "#     evals=[(dtrain2, \"train\"), (dtest, \"test\")],\n",
    "    evals=[(dtest, \"test\")],\n",
    "    early_stopping_rounds=5\n",
    ")"
   ]
  },
  {
   "cell_type": "code",
   "execution_count": 64,
   "id": "organized-buffer",
   "metadata": {},
   "outputs": [
    {
     "name": "stdout",
     "output_type": "stream",
     "text": [
      "{'test': {'rmse': [16.538439, 11.678191, 8.278107, 5.887934, 4.221953, 3.06977, 2.304125, 1.801274, 1.486173, 1.30199]}}\n"
     ]
    }
   ],
   "source": [
    "print(result2['history'])"
   ]
  },
  {
   "cell_type": "code",
   "execution_count": 65,
   "id": "fewer-movement",
   "metadata": {},
   "outputs": [],
   "source": [
    "# next:\n",
    "# run validation on multiple test sets using time series split (moving window approach)\n",
    "# report average score across all test sets\n",
    "# place the reporting inside a loop over hyperparameter values, producing a summary of the best set of hyperparameters\n",
    "# and corresponding average score"
   ]
  },
  {
   "cell_type": "code",
   "execution_count": 66,
   "id": "muslim-lingerie",
   "metadata": {},
   "outputs": [],
   "source": [
    "# also figure out what to do about the DaskDMatrix creation requiring evalution of preceding tasks"
   ]
  },
  {
   "cell_type": "code",
   "execution_count": 67,
   "id": "forward-court",
   "metadata": {},
   "outputs": [],
   "source": [
    "# may need to write a model class that operates on different objects"
   ]
  },
  {
   "cell_type": "markdown",
   "id": "athletic-ozone",
   "metadata": {},
   "source": [
    "##### Dask delayed, sampling CSV rows with .sample()"
   ]
  },
  {
   "cell_type": "code",
   "execution_count": 70,
   "id": "binding-hindu",
   "metadata": {},
   "outputs": [],
   "source": [
    "from dask import delayed"
   ]
  },
  {
   "cell_type": "code",
   "execution_count": 231,
   "id": "transparent-local",
   "metadata": {},
   "outputs": [],
   "source": [
    "# load data as part of computation rather than doing it locally\n",
    "def read_csv(path, frac=.4):\n",
    "    return dd.read_csv(path, parse_dates=['date']).set_index('date').sample(frac=frac, random_state=1)\n",
    "\n",
    "x = delayed(read_csv)('../data/test/csv*.csv')"
   ]
  },
  {
   "cell_type": "code",
   "execution_count": 260,
   "id": "medium-parent",
   "metadata": {},
   "outputs": [
    {
     "data": {
      "text/plain": [
       "Delayed('read_csv-5fae1ad0-8ad0-487d-a525-a6eff4efcd33')"
      ]
     },
     "execution_count": 260,
     "metadata": {},
     "output_type": "execute_result"
    }
   ],
   "source": [
    "x"
   ]
  },
  {
   "cell_type": "code",
   "execution_count": 261,
   "id": "closing-series",
   "metadata": {},
   "outputs": [
    {
     "data": {
      "text/html": [
       "<div><strong>Dask DataFrame Structure:</strong></div>\n",
       "<div>\n",
       "<style scoped>\n",
       "    .dataframe tbody tr th:only-of-type {\n",
       "        vertical-align: middle;\n",
       "    }\n",
       "\n",
       "    .dataframe tbody tr th {\n",
       "        vertical-align: top;\n",
       "    }\n",
       "\n",
       "    .dataframe thead th {\n",
       "        text-align: right;\n",
       "    }\n",
       "</style>\n",
       "<table border=\"1\" class=\"dataframe\">\n",
       "  <thead>\n",
       "    <tr style=\"text-align: right;\">\n",
       "      <th></th>\n",
       "      <th>y</th>\n",
       "      <th>x</th>\n",
       "    </tr>\n",
       "    <tr>\n",
       "      <th>npartitions=1</th>\n",
       "      <th></th>\n",
       "      <th></th>\n",
       "    </tr>\n",
       "  </thead>\n",
       "  <tbody>\n",
       "    <tr>\n",
       "      <th></th>\n",
       "      <td>float64</td>\n",
       "      <td>float64</td>\n",
       "    </tr>\n",
       "    <tr>\n",
       "      <th></th>\n",
       "      <td>...</td>\n",
       "      <td>...</td>\n",
       "    </tr>\n",
       "  </tbody>\n",
       "</table>\n",
       "</div>\n",
       "<div>Dask Name: from-delayed, 2 tasks</div>"
      ],
      "text/plain": [
       "Dask DataFrame Structure:\n",
       "                     y        x\n",
       "npartitions=1                  \n",
       "               float64  float64\n",
       "                   ...      ...\n",
       "Dask Name: from-delayed, 2 tasks"
      ]
     },
     "execution_count": 261,
     "metadata": {},
     "output_type": "execute_result"
    }
   ],
   "source": [
    "dd.from_delayed(x)"
   ]
  },
  {
   "cell_type": "code",
   "execution_count": 166,
   "id": "generic-cheese",
   "metadata": {},
   "outputs": [
    {
     "data": {
      "image/png": "[encoded data removed]",
      "text/plain": [
       "<IPython.core.display.Image object>"
      ]
     },
     "execution_count": 166,
     "metadata": {},
     "output_type": "execute_result"
    }
   ],
   "source": [
    "x.visualize()"
   ]
  },
  {
   "cell_type": "code",
   "execution_count": 196,
   "id": "extraordinary-thesis",
   "metadata": {},
   "outputs": [
    {
     "data": {
      "text/html": [
       "<div><strong>Dask DataFrame Structure:</strong></div>\n",
       "<div>\n",
       "<style scoped>\n",
       "    .dataframe tbody tr th:only-of-type {\n",
       "        vertical-align: middle;\n",
       "    }\n",
       "\n",
       "    .dataframe tbody tr th {\n",
       "        vertical-align: top;\n",
       "    }\n",
       "\n",
       "    .dataframe thead th {\n",
       "        text-align: right;\n",
       "    }\n",
       "</style>\n",
       "<table border=\"1\" class=\"dataframe\">\n",
       "  <thead>\n",
       "    <tr style=\"text-align: right;\">\n",
       "      <th></th>\n",
       "      <th>y</th>\n",
       "      <th>x</th>\n",
       "    </tr>\n",
       "    <tr>\n",
       "      <th>npartitions=2</th>\n",
       "      <th></th>\n",
       "      <th></th>\n",
       "    </tr>\n",
       "  </thead>\n",
       "  <tbody>\n",
       "    <tr>\n",
       "      <th>2015-01-01</th>\n",
       "      <td>float64</td>\n",
       "      <td>float64</td>\n",
       "    </tr>\n",
       "    <tr>\n",
       "      <th>2019-01-01</th>\n",
       "      <td>...</td>\n",
       "      <td>...</td>\n",
       "    </tr>\n",
       "    <tr>\n",
       "      <th>2021-09-26</th>\n",
       "      <td>...</td>\n",
       "      <td>...</td>\n",
       "    </tr>\n",
       "  </tbody>\n",
       "</table>\n",
       "</div>\n",
       "<div>Dask Name: sample, 8 tasks</div>"
      ],
      "text/plain": [
       "Dask DataFrame Structure:\n",
       "                     y        x\n",
       "npartitions=2                  \n",
       "2015-01-01     float64  float64\n",
       "2019-01-01         ...      ...\n",
       "2021-09-26         ...      ...\n",
       "Dask Name: sample, 8 tasks"
      ]
     },
     "execution_count": 196,
     "metadata": {},
     "output_type": "execute_result"
    }
   ],
   "source": [
    "x.compute()"
   ]
  },
  {
   "cell_type": "code",
   "execution_count": 198,
   "id": "copyrighted-delta",
   "metadata": {},
   "outputs": [
    {
     "data": {
      "text/plain": [
       "True"
      ]
     },
     "execution_count": 198,
     "metadata": {},
     "output_type": "execute_result"
    }
   ],
   "source": [
    "from dask import is_dask_collection\n",
    "is_dask_collection(x.compute())"
   ]
  },
  {
   "cell_type": "code",
   "execution_count": 77,
   "id": "fifteen-albuquerque",
   "metadata": {},
   "outputs": [
    {
     "data": {
      "text/html": [
       "<div><strong>Dask DataFrame Structure:</strong></div>\n",
       "<div>\n",
       "<style scoped>\n",
       "    .dataframe tbody tr th:only-of-type {\n",
       "        vertical-align: middle;\n",
       "    }\n",
       "\n",
       "    .dataframe tbody tr th {\n",
       "        vertical-align: top;\n",
       "    }\n",
       "\n",
       "    .dataframe thead th {\n",
       "        text-align: right;\n",
       "    }\n",
       "</style>\n",
       "<table border=\"1\" class=\"dataframe\">\n",
       "  <thead>\n",
       "    <tr style=\"text-align: right;\">\n",
       "      <th></th>\n",
       "      <th>y</th>\n",
       "      <th>x</th>\n",
       "    </tr>\n",
       "    <tr>\n",
       "      <th>npartitions=2</th>\n",
       "      <th></th>\n",
       "      <th></th>\n",
       "    </tr>\n",
       "  </thead>\n",
       "  <tbody>\n",
       "    <tr>\n",
       "      <th>2015-01-01</th>\n",
       "      <td>float64</td>\n",
       "      <td>float64</td>\n",
       "    </tr>\n",
       "    <tr>\n",
       "      <th>2019-01-01</th>\n",
       "      <td>...</td>\n",
       "      <td>...</td>\n",
       "    </tr>\n",
       "    <tr>\n",
       "      <th>2021-09-26</th>\n",
       "      <td>...</td>\n",
       "      <td>...</td>\n",
       "    </tr>\n",
       "  </tbody>\n",
       "</table>\n",
       "</div>\n",
       "<div>Dask Name: sort_index, 6 tasks</div>"
      ],
      "text/plain": [
       "Dask DataFrame Structure:\n",
       "                     y        x\n",
       "npartitions=2                  \n",
       "2015-01-01     float64  float64\n",
       "2019-01-01         ...      ...\n",
       "2021-09-26         ...      ...\n",
       "Dask Name: sort_index, 6 tasks"
      ]
     },
     "execution_count": 77,
     "metadata": {},
     "output_type": "execute_result"
    }
   ],
   "source": [
    "ddf"
   ]
  },
  {
   "cell_type": "code",
   "execution_count": 232,
   "id": "suited-arabic",
   "metadata": {},
   "outputs": [],
   "source": [
    "from dask.distributed import performance_report\n",
    "\n",
    "with performance_report():\n",
    "    ddf_sample = dd.from_delayed(x, verify_meta=False)"
   ]
  },
  {
   "cell_type": "code",
   "execution_count": 163,
   "id": "amended-class",
   "metadata": {},
   "outputs": [
    {
     "data": {
      "text/plain": [
       "pandas.core.frame.DataFrame"
      ]
     },
     "execution_count": 163,
     "metadata": {},
     "output_type": "execute_result"
    }
   ],
   "source": [
    "type(ddf_sample.compute().compute())"
   ]
  },
  {
   "cell_type": "code",
   "execution_count": 195,
   "id": "dramatic-timber",
   "metadata": {},
   "outputs": [],
   "source": [
    "# ddf_sample.persist().compute().visualize()\n",
    "# ddf_sample.persist().dask\n",
    "# client.persist(ddf_sample)\n",
    "# client.scheduler_info()"
   ]
  },
  {
   "cell_type": "code",
   "execution_count": 183,
   "id": "smooth-reader",
   "metadata": {},
   "outputs": [
    {
     "data": {
      "image/png": "[encoded data removed]",
      "text/plain": [
       "<IPython.core.display.Image object>"
      ]
     },
     "execution_count": 183,
     "metadata": {},
     "output_type": "execute_result"
    }
   ],
   "source": [
    "ddf_sample.compute().visualize()"
   ]
  },
  {
   "cell_type": "code",
   "execution_count": 168,
   "id": "outside-lincoln",
   "metadata": {},
   "outputs": [
    {
     "data": {
      "text/html": [
       "<div>\n",
       "<style scoped>\n",
       "    .dataframe tbody tr th:only-of-type {\n",
       "        vertical-align: middle;\n",
       "    }\n",
       "\n",
       "    .dataframe tbody tr th {\n",
       "        vertical-align: top;\n",
       "    }\n",
       "\n",
       "    .dataframe thead th {\n",
       "        text-align: right;\n",
       "    }\n",
       "</style>\n",
       "<table border=\"1\" class=\"dataframe\">\n",
       "  <thead>\n",
       "    <tr style=\"text-align: right;\">\n",
       "      <th></th>\n",
       "      <th>y</th>\n",
       "      <th>x</th>\n",
       "    </tr>\n",
       "    <tr>\n",
       "      <th>date</th>\n",
       "      <th></th>\n",
       "      <th></th>\n",
       "    </tr>\n",
       "  </thead>\n",
       "  <tbody>\n",
       "    <tr>\n",
       "      <th>2016-03-17</th>\n",
       "      <td>8.831639</td>\n",
       "      <td>-8.82</td>\n",
       "    </tr>\n",
       "    <tr>\n",
       "      <th>2015-02-21</th>\n",
       "      <td>0.317419</td>\n",
       "      <td>-1.02</td>\n",
       "    </tr>\n",
       "    <tr>\n",
       "      <th>2015-03-19</th>\n",
       "      <td>0.980404</td>\n",
       "      <td>-1.54</td>\n",
       "    </tr>\n",
       "    <tr>\n",
       "      <th>2015-09-03</th>\n",
       "      <td>3.875713</td>\n",
       "      <td>-4.90</td>\n",
       "    </tr>\n",
       "    <tr>\n",
       "      <th>2016-05-23</th>\n",
       "      <td>10.208258</td>\n",
       "      <td>-10.16</td>\n",
       "    </tr>\n",
       "    <tr>\n",
       "      <th>...</th>\n",
       "      <td>...</td>\n",
       "      <td>...</td>\n",
       "    </tr>\n",
       "    <tr>\n",
       "      <th>2020-12-25</th>\n",
       "      <td>34.059202</td>\n",
       "      <td>-34.48</td>\n",
       "    </tr>\n",
       "    <tr>\n",
       "      <th>2021-01-21</th>\n",
       "      <td>35.272452</td>\n",
       "      <td>-35.02</td>\n",
       "    </tr>\n",
       "    <tr>\n",
       "      <th>2020-02-11</th>\n",
       "      <td>26.226510</td>\n",
       "      <td>-28.12</td>\n",
       "    </tr>\n",
       "    <tr>\n",
       "      <th>2019-06-13</th>\n",
       "      <td>24.202871</td>\n",
       "      <td>-23.26</td>\n",
       "    </tr>\n",
       "    <tr>\n",
       "      <th>2021-06-01</th>\n",
       "      <td>38.669353</td>\n",
       "      <td>-37.64</td>\n",
       "    </tr>\n",
       "  </tbody>\n",
       "</table>\n",
       "<p>800 rows × 2 columns</p>\n",
       "</div>"
      ],
      "text/plain": [
       "                    y      x\n",
       "date                        \n",
       "2016-03-17   8.831639  -8.82\n",
       "2015-02-21   0.317419  -1.02\n",
       "2015-03-19   0.980404  -1.54\n",
       "2015-09-03   3.875713  -4.90\n",
       "2016-05-23  10.208258 -10.16\n",
       "...               ...    ...\n",
       "2020-12-25  34.059202 -34.48\n",
       "2021-01-21  35.272452 -35.02\n",
       "2020-02-11  26.226510 -28.12\n",
       "2019-06-13  24.202871 -23.26\n",
       "2021-06-01  38.669353 -37.64\n",
       "\n",
       "[800 rows x 2 columns]"
      ]
     },
     "execution_count": 168,
     "metadata": {},
     "output_type": "execute_result"
    }
   ],
   "source": [
    "ddf_sample.compute().compute()"
   ]
  },
  {
   "cell_type": "code",
   "execution_count": 158,
   "id": "alone-kitty",
   "metadata": {},
   "outputs": [
    {
     "data": {
      "text/html": [
       "<table>\n",
       "<tr>\n",
       "<td>\n",
       "<table>\n",
       "  <thead>\n",
       "    <tr><td> </td><th> Array </th><th> Chunk </th></tr>\n",
       "  </thead>\n",
       "  <tbody>\n",
       "    <tr><th> Bytes </th><td> 6.40 kB </td> <td> 3.20 kB </td></tr>\n",
       "    <tr><th> Shape </th><td> (800, 1) </td> <td> (400, 1) </td></tr>\n",
       "    <tr><th> Count </th><td> 14 Tasks </td><td> 2 Chunks </td></tr>\n",
       "    <tr><th> Type </th><td> float64 </td><td> numpy.ndarray </td></tr>\n",
       "  </tbody>\n",
       "</table>\n",
       "</td>\n",
       "<td>\n",
       "<svg width=\"75\" height=\"170\" style=\"stroke:rgb(0,0,0);stroke-width:1\" >\n",
       "\n",
       "  <!-- Horizontal lines -->\n",
       "  <line x1=\"0\" y1=\"0\" x2=\"25\" y2=\"0\" style=\"stroke-width:2\" />\n",
       "  <line x1=\"0\" y1=\"60\" x2=\"25\" y2=\"60\" />\n",
       "  <line x1=\"0\" y1=\"120\" x2=\"25\" y2=\"120\" style=\"stroke-width:2\" />\n",
       "\n",
       "  <!-- Vertical lines -->\n",
       "  <line x1=\"0\" y1=\"0\" x2=\"0\" y2=\"120\" style=\"stroke-width:2\" />\n",
       "  <line x1=\"25\" y1=\"0\" x2=\"25\" y2=\"120\" style=\"stroke-width:2\" />\n",
       "\n",
       "  <!-- Colored Rectangle -->\n",
       "  <polygon points=\"0.0,0.0 25.412616514582485,0.0 25.412616514582485,120.0 0.0,120.0\" style=\"fill:#ECB172A0;stroke-width:0\"/>\n",
       "\n",
       "  <!-- Text -->\n",
       "  <text x=\"12.706308\" y=\"140.000000\" font-size=\"1.0rem\" font-weight=\"100\" text-anchor=\"middle\" >1</text>\n",
       "  <text x=\"45.412617\" y=\"60.000000\" font-size=\"1.0rem\" font-weight=\"100\" text-anchor=\"middle\" transform=\"rotate(-90,45.412617,60.000000)\">800</text>\n",
       "</svg>\n",
       "</td>\n",
       "</tr>\n",
       "</table>"
      ],
      "text/plain": [
       "dask.array<reshape, shape=(800, 1), dtype=float64, chunksize=(400, 1), chunktype=numpy.ndarray>"
      ]
     },
     "execution_count": 158,
     "metadata": {},
     "output_type": "execute_result"
    }
   ],
   "source": [
    "ddf_sample['x'].compute().to_dask_array(lengths=True).reshape(-1,1)"
   ]
  },
  {
   "cell_type": "code",
   "execution_count": 159,
   "id": "static-breed",
   "metadata": {},
   "outputs": [
    {
     "data": {
      "text/plain": [
       "Dask Series Structure:\n",
       "npartitions=2\n",
       "2015-01-01    float64\n",
       "2019-01-01        ...\n",
       "2021-09-26        ...\n",
       "Name: y, dtype: float64\n",
       "Dask Name: getitem, 10 tasks"
      ]
     },
     "execution_count": 159,
     "metadata": {},
     "output_type": "execute_result"
    }
   ],
   "source": [
    "ddf_sample['y'].compute()"
   ]
  },
  {
   "cell_type": "code",
   "execution_count": 169,
   "id": "bridal-psychology",
   "metadata": {},
   "outputs": [
    {
     "data": {
      "text/plain": [
       "<xgboost.dask.DaskDMatrix at 0x1a355546a0>"
      ]
     },
     "execution_count": 169,
     "metadata": {},
     "output_type": "execute_result"
    }
   ],
   "source": [
    "# still not sure what exactly happens when .compute() is called on a from_delayed object\n",
    "X_sample_train = ddf_sample['x'].compute().to_dask_array(lengths=True).reshape(-1,1)\n",
    "y_sample_train = ddf_sample['y'].compute()\n",
    "xgb.dask.DaskDMatrix(client, X_sample_train, y_sample_train)"
   ]
  },
  {
   "cell_type": "markdown",
   "id": "opened-inspection",
   "metadata": {},
   "source": [
    "##### More testing of read_csv and merge (can ignore this section)"
   ]
  },
  {
   "cell_type": "code",
   "execution_count": 81,
   "id": "western-gates",
   "metadata": {},
   "outputs": [],
   "source": [
    "ddf_sub = ddf.loc[(ddf.index <= pd.Timestamp('2018-12-31'))]"
   ]
  },
  {
   "cell_type": "code",
   "execution_count": 82,
   "id": "derived-donna",
   "metadata": {},
   "outputs": [
    {
     "data": {
      "image/png": "[encoded data removed]",
      "text/plain": [
       "<IPython.core.display.Image object>"
      ]
     },
     "execution_count": 82,
     "metadata": {},
     "output_type": "execute_result"
    }
   ],
   "source": [
    "ddf_sub.visualize()"
   ]
  },
  {
   "cell_type": "code",
   "execution_count": 83,
   "id": "arabic-nursing",
   "metadata": {},
   "outputs": [
    {
     "data": {
      "image/png": "[encoded data removed]",
      "text/plain": [
       "<IPython.core.display.Image object>"
      ]
     },
     "execution_count": 83,
     "metadata": {},
     "output_type": "execute_result"
    }
   ],
   "source": [
    "ddf1 = dd.read_csv('../data/test/csv1.csv', parse_dates=['date']).set_index('date')\n",
    "ddf2 = dd.read_csv('../data/test/csv2.csv', parse_dates=['date']).set_index('date')\n",
    "\n",
    "ddf_all = dd.merge(ddf1, ddf2)\n",
    "ddf_all.visualize()"
   ]
  },
  {
   "cell_type": "markdown",
   "id": "daily-swift",
   "metadata": {},
   "source": [
    "##### Test reading sample from multiple CSVs"
   ]
  },
  {
   "cell_type": "code",
   "execution_count": 99,
   "id": "turned-jordan",
   "metadata": {},
   "outputs": [],
   "source": [
    "ddf_sample = dd.read_csv(\n",
    "    '../data/test/csv*.csv',\n",
    "    parse_dates=['date'],\n",
    ").set_index('date').sample(frac=0.5)"
   ]
  },
  {
   "cell_type": "code",
   "execution_count": 102,
   "id": "restricted-influence",
   "metadata": {},
   "outputs": [
    {
     "data": {
      "image/png": "[encoded data removed]",
      "text/plain": [
       "<IPython.core.display.Image object>"
      ]
     },
     "execution_count": 102,
     "metadata": {},
     "output_type": "execute_result"
    }
   ],
   "source": [
    "ddf_sample.visualize()"
   ]
  },
  {
   "cell_type": "code",
   "execution_count": 164,
   "id": "three-objective",
   "metadata": {},
   "outputs": [],
   "source": [
    "# skiprows in Dask does not accept a callable, so the code below will not work\n",
    "\n",
    "# import random\n",
    "\n",
    "# ddf_sample = dd.read_csv(\n",
    "#     '../data/test/csv*.csv',\n",
    "#     parse_dates=['date'],\n",
    "#     skiprows=lambda i: i>0 and random.random() > 0.5\n",
    "# ).set_index('date')"
   ]
  },
  {
   "cell_type": "markdown",
   "id": "hawaiian-hunger",
   "metadata": {},
   "source": [
    "##### Create a list of delayed objects from multiple CSVs and work with them to create train and test sets"
   ]
  },
  {
   "cell_type": "code",
   "execution_count": 224,
   "id": "received-czech",
   "metadata": {},
   "outputs": [],
   "source": [
    "import os"
   ]
  },
  {
   "cell_type": "code",
   "execution_count": null,
   "id": "annoying-conversation",
   "metadata": {},
   "outputs": [],
   "source": [
    "# from glob import glob\n",
    "# import os\n",
    "\n",
    "# lazy_dataframes = []\n",
    "# for directory in glob('2016-*'):\n",
    "#     for symbol in os.listdir(directory):\n",
    "#         filename = os.path.join(directory, symbol)\n",
    "#         df = delayed(feather.read_dataframe)(filename)\n",
    "#         df = delayed(pd.DataFrame.assign)(df, date=pd.Timestamp(directory),\n",
    "#                                               symbol=symbol)\n",
    "#         lazy_dataframes.append(df)"
   ]
  },
  {
   "cell_type": "code",
   "execution_count": 277,
   "id": "racial-baking",
   "metadata": {},
   "outputs": [
    {
     "data": {
      "text/plain": [
       "Delayed('read_csv_file-777018d0-9ec0-4f67-83c4-f798b6d85209')"
      ]
     },
     "execution_count": 277,
     "metadata": {},
     "output_type": "execute_result"
    }
   ],
   "source": [
    "def read_csv_file(path, frac=1.):\n",
    "    return dd.read_csv(path, parse_dates=['date']).set_index('date').sample(frac=frac, random_state=1)\n",
    "#     return dd.read_csv(path, parse_dates=['date']).sample(frac=frac, random_state=1)\n",
    "\n",
    "\n",
    "# per https://gist.github.com/mrocklin/e7b7b3a65f2835cda813096332ec73ca\n",
    "lazy_dataframes = []\n",
    "directory = '../data/test/'\n",
    "for csv_file in os.listdir(directory):\n",
    "    filename = os.path.join(directory, csv_file)\n",
    "    df = delayed(read_csv_file)(filename)\n",
    "    lazy_dataframes.append(df)\n",
    "    \n",
    "lazy_dataframes[0]"
   ]
  },
  {
   "cell_type": "code",
   "execution_count": 278,
   "id": "tropical-violence",
   "metadata": {},
   "outputs": [
    {
     "data": {
      "text/html": [
       "<div><strong>Dask DataFrame Structure:</strong></div>\n",
       "<div>\n",
       "<style scoped>\n",
       "    .dataframe tbody tr th:only-of-type {\n",
       "        vertical-align: middle;\n",
       "    }\n",
       "\n",
       "    .dataframe tbody tr th {\n",
       "        vertical-align: top;\n",
       "    }\n",
       "\n",
       "    .dataframe thead th {\n",
       "        text-align: right;\n",
       "    }\n",
       "</style>\n",
       "<table border=\"1\" class=\"dataframe\">\n",
       "  <thead>\n",
       "    <tr style=\"text-align: right;\">\n",
       "      <th></th>\n",
       "      <th>y</th>\n",
       "      <th>x</th>\n",
       "    </tr>\n",
       "    <tr>\n",
       "      <th>npartitions=2</th>\n",
       "      <th></th>\n",
       "      <th></th>\n",
       "    </tr>\n",
       "  </thead>\n",
       "  <tbody>\n",
       "    <tr>\n",
       "      <th></th>\n",
       "      <td>float64</td>\n",
       "      <td>float64</td>\n",
       "    </tr>\n",
       "    <tr>\n",
       "      <th></th>\n",
       "      <td>...</td>\n",
       "      <td>...</td>\n",
       "    </tr>\n",
       "    <tr>\n",
       "      <th></th>\n",
       "      <td>...</td>\n",
       "      <td>...</td>\n",
       "    </tr>\n",
       "  </tbody>\n",
       "</table>\n",
       "</div>\n",
       "<div>Dask Name: from-delayed, 4 tasks</div>"
      ],
      "text/plain": [
       "Dask DataFrame Structure:\n",
       "                     y        x\n",
       "npartitions=2                  \n",
       "               float64  float64\n",
       "                   ...      ...\n",
       "                   ...      ...\n",
       "Dask Name: from-delayed, 4 tasks"
      ]
     },
     "execution_count": 278,
     "metadata": {},
     "output_type": "execute_result"
    }
   ],
   "source": [
    "dd.from_delayed(lazy_dataframes)"
   ]
  },
  {
   "cell_type": "code",
   "execution_count": 258,
   "id": "casual-interface",
   "metadata": {},
   "outputs": [
    {
     "data": {
      "text/html": [
       "<div><strong>Dask DataFrame Structure:</strong></div>\n",
       "<div>\n",
       "<style scoped>\n",
       "    .dataframe tbody tr th:only-of-type {\n",
       "        vertical-align: middle;\n",
       "    }\n",
       "\n",
       "    .dataframe tbody tr th {\n",
       "        vertical-align: top;\n",
       "    }\n",
       "\n",
       "    .dataframe thead th {\n",
       "        text-align: right;\n",
       "    }\n",
       "</style>\n",
       "<table border=\"1\" class=\"dataframe\">\n",
       "  <thead>\n",
       "    <tr style=\"text-align: right;\">\n",
       "      <th></th>\n",
       "      <th>y</th>\n",
       "      <th>x</th>\n",
       "    </tr>\n",
       "    <tr>\n",
       "      <th>npartitions=1</th>\n",
       "      <th></th>\n",
       "      <th></th>\n",
       "    </tr>\n",
       "  </thead>\n",
       "  <tbody>\n",
       "    <tr>\n",
       "      <th>2019-01-01</th>\n",
       "      <td>float64</td>\n",
       "      <td>float64</td>\n",
       "    </tr>\n",
       "    <tr>\n",
       "      <th>2021-09-26</th>\n",
       "      <td>...</td>\n",
       "      <td>...</td>\n",
       "    </tr>\n",
       "  </tbody>\n",
       "</table>\n",
       "</div>\n",
       "<div>Dask Name: sample, 4 tasks</div>"
      ],
      "text/plain": [
       "Dask DataFrame Structure:\n",
       "                     y        x\n",
       "npartitions=1                  \n",
       "2019-01-01     float64  float64\n",
       "2021-09-26         ...      ...\n",
       "Dask Name: sample, 4 tasks"
      ]
     },
     "execution_count": 258,
     "metadata": {},
     "output_type": "execute_result"
    }
   ],
   "source": [
    "dd.from_delayed(lazy_dataframes[1], verify_meta=False).compute()"
   ]
  },
  {
   "cell_type": "code",
   "execution_count": 279,
   "id": "passive-hayes",
   "metadata": {},
   "outputs": [
    {
     "data": {
      "text/plain": [
       "(Timestamp('2015-01-01 00:00:00'), Timestamp('2017-09-26 00:00:00'))"
      ]
     },
     "execution_count": 279,
     "metadata": {},
     "output_type": "execute_result"
    }
   ],
   "source": [
    "lazy_dataframes[0].compute().divisions"
   ]
  },
  {
   "cell_type": "code",
   "execution_count": 283,
   "id": "junior-territory",
   "metadata": {},
   "outputs": [
    {
     "data": {
      "text/plain": [
       "(Dask DataFrame Structure:\n",
       "                      y        x\n",
       " npartitions=1                  \n",
       " 2015-01-01     float64  float64\n",
       " 2017-09-26         ...      ...\n",
       " Dask Name: sample, 4 tasks,\n",
       " Dask DataFrame Structure:\n",
       "                      y        x\n",
       " npartitions=1                  \n",
       " 2019-01-01     float64  float64\n",
       " 2021-09-26         ...      ...\n",
       " Dask Name: sample, 4 tasks)"
      ]
     },
     "execution_count": 283,
     "metadata": {},
     "output_type": "execute_result"
    }
   ],
   "source": [
    "# per https://docs.dask.org/en/latest/delayed-collections.html\n",
    "dd.compute(*lazy_dataframes)"
   ]
  },
  {
   "cell_type": "code",
   "execution_count": 290,
   "id": "oriented-discipline",
   "metadata": {},
   "outputs": [
    {
     "data": {
      "text/plain": [
       "2"
      ]
     },
     "execution_count": 290,
     "metadata": {},
     "output_type": "execute_result"
    }
   ],
   "source": [
    "# length of tuple\n",
    "len(dd.compute(*lazy_dataframes))"
   ]
  },
  {
   "cell_type": "code",
   "execution_count": 291,
   "id": "optical-reception",
   "metadata": {},
   "outputs": [
    {
     "data": {
      "text/html": [
       "<div><strong>Dask DataFrame Structure:</strong></div>\n",
       "<div>\n",
       "<style scoped>\n",
       "    .dataframe tbody tr th:only-of-type {\n",
       "        vertical-align: middle;\n",
       "    }\n",
       "\n",
       "    .dataframe tbody tr th {\n",
       "        vertical-align: top;\n",
       "    }\n",
       "\n",
       "    .dataframe thead th {\n",
       "        text-align: right;\n",
       "    }\n",
       "</style>\n",
       "<table border=\"1\" class=\"dataframe\">\n",
       "  <thead>\n",
       "    <tr style=\"text-align: right;\">\n",
       "      <th></th>\n",
       "      <th>y</th>\n",
       "      <th>x</th>\n",
       "    </tr>\n",
       "    <tr>\n",
       "      <th>npartitions=1</th>\n",
       "      <th></th>\n",
       "      <th></th>\n",
       "    </tr>\n",
       "  </thead>\n",
       "  <tbody>\n",
       "    <tr>\n",
       "      <th>2015-01-01</th>\n",
       "      <td>float64</td>\n",
       "      <td>float64</td>\n",
       "    </tr>\n",
       "    <tr>\n",
       "      <th>2017-09-26</th>\n",
       "      <td>...</td>\n",
       "      <td>...</td>\n",
       "    </tr>\n",
       "  </tbody>\n",
       "</table>\n",
       "</div>\n",
       "<div>Dask Name: sample, 4 tasks</div>"
      ],
      "text/plain": [
       "Dask DataFrame Structure:\n",
       "                     y        x\n",
       "npartitions=1                  \n",
       "2015-01-01     float64  float64\n",
       "2017-09-26         ...      ...\n",
       "Dask Name: sample, 4 tasks"
      ]
     },
     "execution_count": 291,
     "metadata": {},
     "output_type": "execute_result"
    }
   ],
   "source": [
    "dd.compute(*lazy_dataframes)[0]"
   ]
  },
  {
   "cell_type": "code",
   "execution_count": 298,
   "id": "worldwide-reverse",
   "metadata": {},
   "outputs": [
    {
     "data": {
      "text/html": [
       "<div>\n",
       "<style scoped>\n",
       "    .dataframe tbody tr th:only-of-type {\n",
       "        vertical-align: middle;\n",
       "    }\n",
       "\n",
       "    .dataframe tbody tr th {\n",
       "        vertical-align: top;\n",
       "    }\n",
       "\n",
       "    .dataframe thead th {\n",
       "        text-align: right;\n",
       "    }\n",
       "</style>\n",
       "<table border=\"1\" class=\"dataframe\">\n",
       "  <thead>\n",
       "    <tr style=\"text-align: right;\">\n",
       "      <th></th>\n",
       "      <th>y</th>\n",
       "      <th>x</th>\n",
       "    </tr>\n",
       "    <tr>\n",
       "      <th>date</th>\n",
       "      <th></th>\n",
       "      <th></th>\n",
       "    </tr>\n",
       "  </thead>\n",
       "  <tbody>\n",
       "    <tr>\n",
       "      <th>2016-03-17</th>\n",
       "      <td>8.831639</td>\n",
       "      <td>-8.82</td>\n",
       "    </tr>\n",
       "    <tr>\n",
       "      <th>2015-02-21</th>\n",
       "      <td>0.317419</td>\n",
       "      <td>-1.02</td>\n",
       "    </tr>\n",
       "    <tr>\n",
       "      <th>2015-03-19</th>\n",
       "      <td>0.980404</td>\n",
       "      <td>-1.54</td>\n",
       "    </tr>\n",
       "    <tr>\n",
       "      <th>2015-09-03</th>\n",
       "      <td>3.875713</td>\n",
       "      <td>-4.90</td>\n",
       "    </tr>\n",
       "    <tr>\n",
       "      <th>2016-05-23</th>\n",
       "      <td>10.208258</td>\n",
       "      <td>-10.16</td>\n",
       "    </tr>\n",
       "    <tr>\n",
       "      <th>...</th>\n",
       "      <td>...</td>\n",
       "      <td>...</td>\n",
       "    </tr>\n",
       "    <tr>\n",
       "      <th>2015-06-13</th>\n",
       "      <td>4.561750</td>\n",
       "      <td>-3.26</td>\n",
       "    </tr>\n",
       "    <tr>\n",
       "      <th>2015-08-25</th>\n",
       "      <td>5.537348</td>\n",
       "      <td>-4.72</td>\n",
       "    </tr>\n",
       "    <tr>\n",
       "      <th>2015-04-23</th>\n",
       "      <td>1.716608</td>\n",
       "      <td>-2.24</td>\n",
       "    </tr>\n",
       "    <tr>\n",
       "      <th>2015-11-25</th>\n",
       "      <td>5.075284</td>\n",
       "      <td>-6.56</td>\n",
       "    </tr>\n",
       "    <tr>\n",
       "      <th>2017-01-19</th>\n",
       "      <td>14.436956</td>\n",
       "      <td>-14.98</td>\n",
       "    </tr>\n",
       "  </tbody>\n",
       "</table>\n",
       "<p>1000 rows × 2 columns</p>\n",
       "</div>"
      ],
      "text/plain": [
       "                    y      x\n",
       "date                        \n",
       "2016-03-17   8.831639  -8.82\n",
       "2015-02-21   0.317419  -1.02\n",
       "2015-03-19   0.980404  -1.54\n",
       "2015-09-03   3.875713  -4.90\n",
       "2016-05-23  10.208258 -10.16\n",
       "...               ...    ...\n",
       "2015-06-13   4.561750  -3.26\n",
       "2015-08-25   5.537348  -4.72\n",
       "2015-04-23   1.716608  -2.24\n",
       "2015-11-25   5.075284  -6.56\n",
       "2017-01-19  14.436956 -14.98\n",
       "\n",
       "[1000 rows x 2 columns]"
      ]
     },
     "execution_count": 298,
     "metadata": {},
     "output_type": "execute_result"
    }
   ],
   "source": [
    "# get the first dask dataframe from the tuple and call compute() to get pandas dataframe\n",
    "dd.compute(*lazy_dataframes)[0].compute()"
   ]
  },
  {
   "cell_type": "code",
   "execution_count": 289,
   "id": "radical-botswana",
   "metadata": {},
   "outputs": [
    {
     "data": {
      "text/html": [
       "<div>\n",
       "<style scoped>\n",
       "    .dataframe tbody tr th:only-of-type {\n",
       "        vertical-align: middle;\n",
       "    }\n",
       "\n",
       "    .dataframe tbody tr th {\n",
       "        vertical-align: top;\n",
       "    }\n",
       "\n",
       "    .dataframe thead th {\n",
       "        text-align: right;\n",
       "    }\n",
       "</style>\n",
       "<table border=\"1\" class=\"dataframe\">\n",
       "  <thead>\n",
       "    <tr style=\"text-align: right;\">\n",
       "      <th></th>\n",
       "      <th>y</th>\n",
       "      <th>x</th>\n",
       "    </tr>\n",
       "    <tr>\n",
       "      <th>date</th>\n",
       "      <th></th>\n",
       "      <th></th>\n",
       "    </tr>\n",
       "  </thead>\n",
       "  <tbody>\n",
       "    <tr>\n",
       "      <th>2016-03-17</th>\n",
       "      <td>8.831639</td>\n",
       "      <td>-8.82</td>\n",
       "    </tr>\n",
       "    <tr>\n",
       "      <th>2015-02-21</th>\n",
       "      <td>0.317419</td>\n",
       "      <td>-1.02</td>\n",
       "    </tr>\n",
       "    <tr>\n",
       "      <th>2015-03-19</th>\n",
       "      <td>0.980404</td>\n",
       "      <td>-1.54</td>\n",
       "    </tr>\n",
       "    <tr>\n",
       "      <th>2015-09-03</th>\n",
       "      <td>3.875713</td>\n",
       "      <td>-4.90</td>\n",
       "    </tr>\n",
       "    <tr>\n",
       "      <th>2016-05-23</th>\n",
       "      <td>10.208258</td>\n",
       "      <td>-10.16</td>\n",
       "    </tr>\n",
       "    <tr>\n",
       "      <th>...</th>\n",
       "      <td>...</td>\n",
       "      <td>...</td>\n",
       "    </tr>\n",
       "    <tr>\n",
       "      <th>2015-06-13</th>\n",
       "      <td>4.561750</td>\n",
       "      <td>-3.26</td>\n",
       "    </tr>\n",
       "    <tr>\n",
       "      <th>2015-08-25</th>\n",
       "      <td>5.537348</td>\n",
       "      <td>-4.72</td>\n",
       "    </tr>\n",
       "    <tr>\n",
       "      <th>2015-04-23</th>\n",
       "      <td>1.716608</td>\n",
       "      <td>-2.24</td>\n",
       "    </tr>\n",
       "    <tr>\n",
       "      <th>2015-11-25</th>\n",
       "      <td>5.075284</td>\n",
       "      <td>-6.56</td>\n",
       "    </tr>\n",
       "    <tr>\n",
       "      <th>2017-01-19</th>\n",
       "      <td>14.436956</td>\n",
       "      <td>-14.98</td>\n",
       "    </tr>\n",
       "  </tbody>\n",
       "</table>\n",
       "<p>1000 rows × 2 columns</p>\n",
       "</div>"
      ],
      "text/plain": [
       "                    y      x\n",
       "date                        \n",
       "2016-03-17   8.831639  -8.82\n",
       "2015-02-21   0.317419  -1.02\n",
       "2015-03-19   0.980404  -1.54\n",
       "2015-09-03   3.875713  -4.90\n",
       "2016-05-23  10.208258 -10.16\n",
       "...               ...    ...\n",
       "2015-06-13   4.561750  -3.26\n",
       "2015-08-25   5.537348  -4.72\n",
       "2015-04-23   1.716608  -2.24\n",
       "2015-11-25   5.075284  -6.56\n",
       "2017-01-19  14.436956 -14.98\n",
       "\n",
       "[1000 rows x 2 columns]"
      ]
     },
     "execution_count": 289,
     "metadata": {},
     "output_type": "execute_result"
    }
   ],
   "source": [
    "dd.compute(lazy_dataframes[0])[0].compute()"
   ]
  },
  {
   "cell_type": "code",
   "execution_count": 300,
   "id": "federal-sweet",
   "metadata": {},
   "outputs": [],
   "source": [
    "# dd.from_delayed(lazy_dataframes, verify_meta=False).compute()\n",
    "# Produces:\n",
    "# TypeError: No dispatch for <class 'dask.dataframe.core.DataFrame'>"
   ]
  },
  {
   "cell_type": "code",
   "execution_count": 273,
   "id": "governing-alarm",
   "metadata": {},
   "outputs": [
    {
     "data": {
      "text/html": [
       "<div><strong>Dask DataFrame Structure:</strong></div>\n",
       "<div>\n",
       "<style scoped>\n",
       "    .dataframe tbody tr th:only-of-type {\n",
       "        vertical-align: middle;\n",
       "    }\n",
       "\n",
       "    .dataframe tbody tr th {\n",
       "        vertical-align: top;\n",
       "    }\n",
       "\n",
       "    .dataframe thead th {\n",
       "        text-align: right;\n",
       "    }\n",
       "</style>\n",
       "<table border=\"1\" class=\"dataframe\">\n",
       "  <thead>\n",
       "    <tr style=\"text-align: right;\">\n",
       "      <th></th>\n",
       "      <th>y</th>\n",
       "      <th>x</th>\n",
       "    </tr>\n",
       "    <tr>\n",
       "      <th>npartitions=2</th>\n",
       "      <th></th>\n",
       "      <th></th>\n",
       "    </tr>\n",
       "  </thead>\n",
       "  <tbody>\n",
       "    <tr>\n",
       "      <th></th>\n",
       "      <td>float64</td>\n",
       "      <td>float64</td>\n",
       "    </tr>\n",
       "    <tr>\n",
       "      <th></th>\n",
       "      <td>...</td>\n",
       "      <td>...</td>\n",
       "    </tr>\n",
       "    <tr>\n",
       "      <th></th>\n",
       "      <td>...</td>\n",
       "      <td>...</td>\n",
       "    </tr>\n",
       "  </tbody>\n",
       "</table>\n",
       "</div>\n",
       "<div>Dask Name: from-delayed, 4 tasks</div>"
      ],
      "text/plain": [
       "Dask DataFrame Structure:\n",
       "                     y        x\n",
       "npartitions=2                  \n",
       "               float64  float64\n",
       "                   ...      ...\n",
       "                   ...      ...\n",
       "Dask Name: from-delayed, 4 tasks"
      ]
     },
     "execution_count": 273,
     "metadata": {},
     "output_type": "execute_result"
    }
   ],
   "source": [
    "ddf_from_delayed = dd.from_delayed(lazy_dataframes, meta=lazy_dataframes[0].compute())\n",
    "ddf_from_delayed\n",
    "# lazy_dataframes[0].compute().compute()"
   ]
  },
  {
   "cell_type": "code",
   "execution_count": 274,
   "id": "norman-weekend",
   "metadata": {},
   "outputs": [
    {
     "data": {
      "text/plain": [
       "(None, None, None)"
      ]
     },
     "execution_count": 274,
     "metadata": {},
     "output_type": "execute_result"
    }
   ],
   "source": [
    "ddf_from_delayed.divisions"
   ]
  },
  {
   "cell_type": "code",
   "execution_count": 299,
   "id": "interstate-sullivan",
   "metadata": {},
   "outputs": [],
   "source": [
    "# ddf_from_delayed.compute()\n",
    "# Produces:\n",
    "# ValueError: Metadata mismatch found in `from_delayed`.\n",
    "# Expected partition of type `pandas.core.frame.DataFrame` but got `dask.dataframe.core.DataFrame`"
   ]
  },
  {
   "cell_type": "code",
   "execution_count": 253,
   "id": "seeing-clause",
   "metadata": {},
   "outputs": [
    {
     "data": {
      "image/png": "[encoded data removed]",
      "text/plain": [
       "<IPython.core.display.Image object>"
      ]
     },
     "execution_count": 253,
     "metadata": {},
     "output_type": "execute_result"
    }
   ],
   "source": [
    "ddf_from_delayed.visualize()"
   ]
  },
  {
   "cell_type": "code",
   "execution_count": 309,
   "id": "material-alpha",
   "metadata": {},
   "outputs": [],
   "source": [
    "# create X and y from first Dask dataframe in the lazy_dataframes list\n",
    "X_train_2 = dd.compute(*lazy_dataframes)[0]['x'].to_dask_array(lengths=True).reshape(-1,1)\n",
    "y_train_2 = dd.compute(*lazy_dataframes)[0]['y']"
   ]
  },
  {
   "cell_type": "code",
   "execution_count": 310,
   "id": "diagnostic-selection",
   "metadata": {},
   "outputs": [
    {
     "data": {
      "text/plain": [
       "<xgboost.dask.DaskDMatrix at 0x1a31d014a8>"
      ]
     },
     "execution_count": 310,
     "metadata": {},
     "output_type": "execute_result"
    }
   ],
   "source": [
    "xgb.dask.DaskDMatrix(client, X_train_2, y_train_2)"
   ]
  },
  {
   "cell_type": "code",
   "execution_count": 311,
   "id": "inappropriate-clinton",
   "metadata": {},
   "outputs": [
    {
     "name": "stdout",
     "output_type": "stream",
     "text": [
      "CPU times: user 3 µs, sys: 1e+03 ns, total: 4 µs\n",
      "Wall time: 41 µs\n"
     ]
    }
   ],
   "source": [
    "%time\n",
    "\n",
    "result3 = xgb.dask.train(\n",
    "    client=client,\n",
    "    params={\n",
    "        \"objective\": \"reg:squarederror\",\n",
    "    },\n",
    "    dtrain=xgb.dask.DaskDMatrix(client, X_train_2, y_train_2),\n",
    "    num_boost_round=10,\n",
    "#     evals=[(dtrain2, \"train\"), (dtest, \"test\")],\n",
    "#     evals=[(dtest, \"test\")],\n",
    "#     early_stopping_rounds=5\n",
    ")"
   ]
  },
  {
   "cell_type": "code",
   "execution_count": 317,
   "id": "abstract-giant",
   "metadata": {},
   "outputs": [
    {
     "data": {
      "text/plain": [
       "10"
      ]
     },
     "execution_count": 317,
     "metadata": {},
     "output_type": "execute_result"
    }
   ],
   "source": [
    "result3['booster'].best_ntree_limit"
   ]
  },
  {
   "cell_type": "code",
   "execution_count": 319,
   "id": "infinite-holiday",
   "metadata": {},
   "outputs": [],
   "source": [
    "# ddf_from_delayed['x'].compute().to_dask_array(lengths=True).reshape(-1,1)\n",
    "# Produces:\n",
    "# ValueError: Metadata mismatch found in `from_delayed`.\n",
    "# Expected partition of type `pandas.core.frame.DataFrame` but got `dask.dataframe.core.DataFrame`"
   ]
  },
  {
   "cell_type": "code",
   "execution_count": 306,
   "id": "homeless-operator",
   "metadata": {},
   "outputs": [
    {
     "data": {
      "text/plain": [
       "Dask Series Structure:\n",
       "npartitions=2\n",
       "2015-01-01    float64\n",
       "2019-01-01        ...\n",
       "2021-09-26        ...\n",
       "Name: x, dtype: float64\n",
       "Dask Name: getitem, 12 tasks"
      ]
     },
     "execution_count": 306,
     "metadata": {},
     "output_type": "execute_result"
    }
   ],
   "source": [
    "# dd.compute(*lazy_dataframes)[0].compute()\n",
    "dd.concat([dd.compute(*lazy_dataframes)[0], dd.compute(*lazy_dataframes)[1]])['x']"
   ]
  },
  {
   "cell_type": "code",
   "execution_count": 321,
   "id": "logical-service",
   "metadata": {},
   "outputs": [
    {
     "data": {
      "text/plain": [
       "<xgboost.dask.DaskDMatrix at 0x1a360ff828>"
      ]
     },
     "execution_count": 321,
     "metadata": {},
     "output_type": "execute_result"
    }
   ],
   "source": [
    "x_dask_ser = dd.concat([dd.compute(*lazy_dataframes)[0], dd.compute(*lazy_dataframes)[1]])['x']\n",
    "x_dask_arr = x_dask_ser.to_dask_array(lengths=True).reshape(-1,1)\n",
    "y_dask_ser = dd.concat([dd.compute(*lazy_dataframes)[0], dd.compute(*lazy_dataframes)[1]])['y']\n",
    "xgb.dask.DaskDMatrix(client, x_dask_arr, y_dask_ser)"
   ]
  },
  {
   "cell_type": "code",
   "execution_count": 302,
   "id": "cubic-uniform",
   "metadata": {},
   "outputs": [],
   "source": [
    "# dd.compute(ddf_from_delayed.get_partition(1))\n",
    "# Produces:\n",
    "# ValueError: Metadata mismatch found in `from_delayed`.\n",
    "# Expected partition of type `pandas.core.frame.DataFrame` but got `dask.dataframe.core.DataFrame`"
   ]
  },
  {
   "cell_type": "code",
   "execution_count": null,
   "id": "timely-nature",
   "metadata": {},
   "outputs": [],
   "source": [
    "# need to specify which CSVs are loaded\n",
    "# load each CSV only once and re-use for different train-validation splits\n",
    "# load each CSV with its own read_csv call and then concatenate as needed to create train and validation sets\n",
    "# OR NOT LOAD EACH CSV WITH ITS OWNS READ_CSV CALL, BUT CREATE A SINGLE BIG PARTITIONED DATAFRAME OUT OF ALL FILES\n",
    "# AND THEN TAKE THE NEEDED SECTIONS FOR FURTHER PROCESSING\n",
    "# perform dd.concat() to concatenate different from_delayed objects to create specific train and validation sets\n",
    "# (potentially perform repartitioning of concatenated dataframe with .repartition(npartitions=__))\n",
    "\n",
    "\n",
    "# READ_CSV: INCLUDE ENCODING= AND BLOCKSIZE= ARGUMENTS (blocksize will translate into X partitions)\n",
    "# ENCODING:\n",
    "# https://docs.python.org/3/library/codecs.html#standard-encodings\n",
    "# Encoding to use for UTF when reading/writing (ex. ‘utf-8’).\n",
    "# ALSO SPECIFY DTYPES\n",
    "# df = dd.read_csv(os.path.join('data', 'nycflights', '*.csv'),\n",
    "#                  parse_dates={'Date': [0, 1, 2]},\n",
    "#                  dtype={'TailNum': str,\n",
    "#                         'CRSElapsedTime': float,\n",
    "#                         'Cancelled': bool})\n",
    "# ALSO, DD.READ_CSV HAS A SAMPLE= PARAMETER? - this parameter is used to determine dtypes\n",
    "# The more partitions we have, the more tasks we will need for each computation."
   ]
  },
  {
   "cell_type": "code",
   "execution_count": null,
   "id": "dated-concept",
   "metadata": {},
   "outputs": [],
   "source": [
    "# def read_train_csvs(path, frac=1.):\n",
    "#     return dd.read_csv(path, parse_dates=['date']).set_index('date').sample(frac=frac, random_state=1)\n",
    "\n",
    "# def read_train_csvs(path, frac=1.):\n",
    "#     return dd.read_csv(path, parse_dates=['date']).set_index('date').sample(frac=frac, random_state=1)\n",
    "\n",
    "# train = delayed(read_train_csvs)('../data/test/csv*.csv', 0.5)"
   ]
  },
  {
   "cell_type": "code",
   "execution_count": 201,
   "id": "alert-baseball",
   "metadata": {},
   "outputs": [],
   "source": [
    "import sys"
   ]
  },
  {
   "cell_type": "code",
   "execution_count": 223,
   "id": "naughty-miami",
   "metadata": {},
   "outputs": [
    {
     "data": {
      "text/plain": [
       "56"
      ]
     },
     "execution_count": 223,
     "metadata": {},
     "output_type": "execute_result"
    }
   ],
   "source": [
    "# dtrain2 = xgb.dask.DaskDMatrix(client, X_train, y_train)\n",
    "# sys.getsizeof(xgb.dask.DaskDMatrix(client, X_sample_train, y_sample_train))\n",
    "# sys.getsizeof(X_sample_train)\n",
    "# sys.getsizeof(da.concatenate([X_sample_train, X_sample_train]))\n",
    "# sys.getsizeof(xgb.dask.DaskDMatrix(client, da.concatenate([X_sample_train, X_sample_train]),\n",
    "#                                   da.concatenate([y_sample_train, y_sample_train])))"
   ]
  },
  {
   "cell_type": "code",
   "execution_count": null,
   "id": "large-tiffany",
   "metadata": {},
   "outputs": [],
   "source": [
    "# result2 = xgb.dask.train(\n",
    "#     client=client,\n",
    "#     params={\n",
    "#         \"objective\": \"reg:squarederror\",\n",
    "#     },\n",
    "#     dtrain=dtrain2,\n",
    "#     num_boost_round=10,\n",
    "# #     evals=[(dtrain2, \"train\"), (dtest, \"test\")],\n",
    "#     evals=[(dtest, \"test\")],\n",
    "#     early_stopping_rounds=5\n",
    "# )"
   ]
  },
  {
   "cell_type": "code",
   "execution_count": null,
   "id": "serious-recipient",
   "metadata": {},
   "outputs": [],
   "source": [
    "# def time_split(data, date):\n",
    "# #     return (data.loc[(data.index <= date)].repartition(freq='1m'), \n",
    "#     return (data.loc[(data.index <= date)], \n",
    "#             data.loc[(data.index > date) & (data.index < date + pd.offsets.MonthEnd(1))])\n",
    "\n",
    "# def sgd_regr(train, testX):\n",
    "#     estimator = SGDRegressor(fit_intercept=True)\n",
    "#     clf = Incremental(estimator)\n",
    "#     train = cull_empty_partitions(train)\n",
    "#     trainX = train['x']\n",
    "#     trainy = train['y']\n",
    "#     clf.fit(trainX.to_dask_array(lengths=True).reshape(-1, 1), trainy.to_dask_array(lengths=True))\n",
    "#     testX = cull_empty_partitions(testX)\n",
    "#     yhat = clf.predict(testX.to_dask_array(lengths=True).reshape(-1, 1))\n",
    "#     return yhat\n",
    "\n",
    "# def walk_forward_validation(data):\n",
    "#     predictions = None\n",
    "#     truey = None\n",
    "#     # calculate number of calendar months to be used for testing\n",
    "#     n_months = (\n",
    "#         ((pd.Timestamp('2018-12-31') + pd.DateOffset(days=500)).year - pd.Timestamp('2018-12-31').year) * 12 +\n",
    "#         (pd.Timestamp('2018-12-31') + pd.DateOffset(days=500)).month - pd.Timestamp('2018-12-31').month\n",
    "#     )\n",
    "#     print(n_months)\n",
    "#     mse = list()\n",
    "# #     fig, axs = plt.subplots(1, n_months, subplot_kw=dict(box_aspect=1), figsize=(15, 3), sharey=True, sharex=True, facecolor='w', edgecolor='k')\n",
    "# #     fig, axs = plt.subplots(n_months // 5 + 1, min(n_months, 5), subplot_kw=dict(box_aspect=1), figsize=(16,3 * (n_months // 5 + 1)), sharey=True, sharex=True, facecolor='w', edgecolor='k')\n",
    "#     fig, axs = plt.subplots(n_months // 5 + 1, min(n_months, 5), subplot_kw=dict(box_aspect=1), figsize=(16,3 * (n_months // 5 + 1)), facecolor='w', edgecolor='k')\n",
    "#     # Supply the limits\n",
    "# #     wbound = 15\n",
    "# #     ebound = 25\n",
    "# #     sbound = 15\n",
    "# #     nbound = 25\n",
    "# #     plt.xlim(wbound, ebound)\n",
    "# #     plt.ylim(sbound, nbound)\n",
    "#     fig.subplots_adjust(hspace = .5, wspace=.05)\n",
    "#     axs = axs.ravel()\n",
    "#     for a in range(n_months, len(axs)):\n",
    "#         fig.delaxes(axs[a])\n",
    "    \n",
    "#     for m in range(n_months):\n",
    "#         end_date = pd.Timestamp('2018-12-31') + pd.DateOffset(months=m)\n",
    "#         train, test = time_split(data, end_date)\n",
    "#         testX, testy = test['x'], test['y']\n",
    "        \n",
    "#         # this part not used because concatenation of arrays of different lengths does not work\n",
    "# #         if truey is None:\n",
    "# #             truey = testy.to_dask_array(lengths=True).reshape(-1, 1)\n",
    "# #         else:\n",
    "# #             truey = da.concatenate([truey, testy.to_dask_array(lengths=True).reshape(-1, 1)], axis=1)\n",
    "        \n",
    "#         yhat = sgd_regr(train, testX)\n",
    "#         if predictions is None:\n",
    "#             predictions = yhat\n",
    "#         else:\n",
    "#             predictions = da.concatenate([predictions, yhat])\n",
    "#         mse.append(mean_squared_error(testy, yhat))\n",
    "        \n",
    "#         axs[m].plot(testy.to_dask_array(lengths=True), label='Actual')\n",
    "# #         axs[m].set_box_aspect(1)\n",
    "#         axs[m].plot(yhat, label='Predicted')\n",
    "# #         axs[m].legend(loc='lower right')\n",
    "#         axs[m].set_title(f\"Test: {(pd.Timestamp('2018-12-31') + pd.DateOffset(months=m) + pd.DateOffset(days=1)).to_period('M').strftime('%Y-%m')}\")\n",
    "#         if m == n_months - 1:\n",
    "#             handles, labels = axs[m].get_legend_handles_labels()\n",
    "#             axs[m].legend(handles, labels)\n",
    "# #         axs[m].scatter(testy.to_dask_array(lengths=True), yhat)\n",
    "# #     return mse, truey, predictions \n",
    "#     return mse"
   ]
  }
 ],
 "metadata": {
  "kernelspec": {
   "display_name": "Python 3",
   "language": "python",
   "name": "python3"
  },
  "language_info": {
   "codemirror_mode": {
    "name": "ipython",
    "version": 3
   },
   "file_extension": ".py",
   "mimetype": "text/x-python",
   "name": "python",
   "nbconvert_exporter": "python",
   "pygments_lexer": "ipython3",
   "version": "3.6.10"
  },
  "toc": {
   "base_numbering": 1,
   "nav_menu": {},
   "number_sections": true,
   "sideBar": true,
   "skip_h1_title": false,
   "title_cell": "Table of Contents",
   "title_sidebar": "Contents",
   "toc_cell": true,
   "toc_position": {},
   "toc_section_display": true,
   "toc_window_display": false
  }
 },
 "nbformat": 4,
 "nbformat_minor": 5
}
